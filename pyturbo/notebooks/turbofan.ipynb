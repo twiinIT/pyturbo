{
  "cells": [
    {
      "cell_type": "markdown",
      "id": "ba8b4132-1828-48fa-bf8c-1a1edbcac52f",
      "metadata": {},
      "source": [
        "# Turbofan Tutorial\n",
        "`pyturbo`  library is provided by twiinIT to assembly a simple turbofan system.\n",
        "\n",
        "The library is made of components: \n",
        "\n",
        "- `compressor` : fluid out is computed from fluid in and power provided by shaft with constant efficiency. \n",
        "- `combustor` : combustion is made considering constant FHV.\n",
        "- `turbine` : power is extracted from fluid in considering a given expansion ratio and constant efficiency. \n",
        "- `inlet` and `nozzle` are computing `drag` and `thrust` from fluid conditions, ambiant pressure and throat section. \n",
        "- `nacelle`: envelop over the engine.\n",
        "- `ogv`, `intermediate_casing` and `trf` and structures with aero channels. \n",
        "\n",
        "They are numerical components:\n",
        "\n",
        "- `fluid_spitter` is used to split the flow into primary and secondary flow\n",
        "- `shaft_spitter` is used to split the shaft power into booster and fan compressor\n",
        "\n",
        "Aero 0D and simplified geometry are considered. "
      ]
    },
    {
      "cell_type": "markdown",
      "id": "11f89b4c-b79b-45f7-8194-02d6a492fd23",
      "metadata": {},
      "source": [
        "A turbofan system is generated."
      ]
    },
    {
      "cell_type": "code",
      "execution_count": null,
      "id": "65abf53d-7674-489d-bdaf-cf2b8444b0b0",
      "metadata": {},
      "outputs": [],
      "source": [
        "from pyturbo.systems.turbofan import TurbofanWithAtm\n",
        "sys = TurbofanWithAtm(\"sys\")\n",
        "sys.run_once()\n",
        "tf = sys.tf"
      ]
    },
    {
      "cell_type": "code",
      "execution_count": null,
      "id": "481ed621-4d1e-49fa-8b78-abdc27885a1b",
      "metadata": {},
      "outputs": [],
      "source": [
        "# geometrical view\n",
        "tf.occ_view.get_value().render()"
      ]
    },
    {
      "cell_type": "markdown",
      "id": "f1d08e45-272d-4ae3-a844-902853f6f2d5",
      "metadata": {},
      "source": [
        "# Simulation\n",
        "\n",
        "The turbofan system has a couple of equations/unknowns to solve. We use `cosapp` non-linear solver for this purpose."
      ]
    },
    {
      "cell_type": "code",
      "execution_count": null,
      "id": "52315346-1984-4c58-9d9b-73499219fd63",
      "metadata": {},
      "outputs": [],
      "source": [
        "from cosapp.drivers import NonLinearSolver"
      ]
    },
    {
      "cell_type": "markdown",
      "id": "34ea90e8-ecac-4e4f-8c64-14eeb25d7084",
      "metadata": {},
      "source": [
        "## Direct mode\n",
        "`thrust` is computed from `fuel_W`."
      ]
    },
    {
      "cell_type": "code",
      "execution_count": null,
      "id": "a194311f-7756-46f2-a851-5693e8688703",
      "metadata": {},
      "outputs": [],
      "source": [
        "# off-design solver\n",
        "solver_direct_mode = sys.add_driver(NonLinearSolver('solver_direct_mode', tol = 1e-6))"
      ]
    },
    {
      "cell_type": "code",
      "execution_count": null,
      "id": "7c17a20c-05f7-40ad-9f99-02d02d0f3fd4",
      "metadata": {},
      "outputs": [],
      "source": [
        "%%time\n",
        "# environment conditions\n",
        "sys.altitude = 0.\n",
        "sys.mach = 0.\n",
        "sys.dtamb = 15.\n",
        "\n",
        "# use case\n",
        "tf.fuel_W = .5\n",
        "\n",
        "sys.run_drivers()\n",
        "\n",
        "print('mach =', sys.mach)\n",
        "print('pamb =', tf.pamb, 'Pa')\n",
        "print('thrust =', round(tf.thrust * 0.224809/1e3, 1), 'klbf')\n",
        "print('thrust =', round(tf.thrust/1e3), 'kN')\n",
        "print('N1 =', round(tf.N1), \"rpm\")\n",
        "print('N2 =', round(tf.N2), \"rpm\")\n",
        "print('bpr =', round(tf.bpr, 1))\n",
        "print('opr =', round(tf.opr, 1))\n",
        "print('T41 =', round(tf.core.turbine.fl_in.Tt), 'K')\n",
        "print('sfc =', round(tf.sfc, 3), 'kg/(h*kN)')"
      ]
    },
    {
      "cell_type": "markdown",
      "id": "913e49f5-1c9f-4c19-a282-466462946e01",
      "metadata": {},
      "source": [
        "## Control mode\n",
        "`fuel_W` is computed to match functional request, here the fan rotational speed `N1` value."
      ]
    },
    {
      "cell_type": "code",
      "execution_count": null,
      "id": "272747f3-79f4-47d6-a777-bfe03dbcfbf1",
      "metadata": {},
      "outputs": [],
      "source": [
        "# control solver\n",
        "sys.drivers.clear()\n",
        "solver_control_mode = sys.add_driver(NonLinearSolver('solver_control_mode', tol=1e-6))\n",
        "solver_control_mode.add_unknown('tf.fuel_W', max_rel_step = 0.5)\n",
        "solver_control_mode.add_target('tf.N1')"
      ]
    },
    {
      "cell_type": "code",
      "execution_count": null,
      "id": "506c3481-bffe-4d99-9a13-931f8800a00d",
      "metadata": {},
      "outputs": [],
      "source": [
        "%%time\n",
        "# environment conditions\n",
        "sys.altitude = 0.\n",
        "sys.mach = 0.\n",
        "sys.dtamb = 15.\n",
        "\n",
        "# use case\n",
        "tf.N1 = 5000.\n",
        "\n",
        "sys.run_drivers()\n",
        "\n",
        "print('mach =', sys.mach)\n",
        "print('pamb =', sys.atm.pamb, 'Pa')\n",
        "print('thrust =', round(tf.thrust * 0.224809/1e3, 1), 'klbf')\n",
        "print('thrust =', round(tf.thrust/1e3), 'kN')\n",
        "print('N1 =', round(tf.N1), \"rpm\")\n",
        "print('N2 =', round(tf.N2), \"rpm\")\n",
        "print('bpr =', round(tf.bpr, 1))\n",
        "print('opr =', round(tf.opr, 1))\n",
        "print('T41 =', round(tf.core.turbine.fl_in.Tt), 'K')\n",
        "print('sfc =', round(tf.sfc, 3), 'kg/(h*kN)')"
      ]
    },
    {
      "cell_type": "markdown",
      "id": "207b793f-d820-44d0-a560-2e58845b2a1f",
      "metadata": {},
      "source": [
        "# Design\n",
        "\n",
        "Turbofan design characteristics are related to components and physical properties."
      ]
    },
    {
      "cell_type": "code",
      "execution_count": null,
      "id": "0d075bbe-c473-4e7a-9e1d-438e74b20a86",
      "metadata": {},
      "outputs": [],
      "source": [
        "from pathlib import Path\n",
        "import pyturbo.systems.turbofan.data as tf_data\n",
        "from pyturbo.utils import load_from_json"
      ]
    },
    {
      "cell_type": "markdown",
      "id": "1c55aebc-58d2-4fc2-a61e-5c43a8505226",
      "metadata": {},
      "source": [
        "## Update geometry"
      ]
    },
    {
      "cell_type": "code",
      "execution_count": null,
      "id": "5c19d079-5922-454a-9681-f818a20d5903",
      "metadata": {},
      "outputs": [],
      "source": [
        "from pathlib import Path\n",
        "import pyturbo.systems.turbofan.data as tf_data\n",
        "from pyturbo.utils import load_from_json\n",
        "\n",
        "data_geom = Path(tf_data.__file__).parent / \"CFM56_7_geom.json\"\n",
        "load_from_json(tf, data_geom)\n",
        "\n",
        "# design solver\n",
        "sys.drivers.clear()\n",
        "sys.add_driver(solver_direct_mode)"
      ]
    },
    {
      "cell_type": "code",
      "execution_count": null,
      "id": "87ca58e3-6269-434a-ae43-1a64aa2fb764",
      "metadata": {},
      "outputs": [],
      "source": [
        "%%time\n",
        "# environment conditions\n",
        "sys.altitude = 0.\n",
        "sys.mach = 0.\n",
        "sys.dtamb = 15.\n",
        "\n",
        "sys.run_drivers()\n",
        "\n",
        "print('mach =', sys.mach)\n",
        "print('pamb =', sys.atm.pamb, 'Pa')\n",
        "print('fan diameter =', round(tf.geom.fan_diameter / 0.0254, 1), 'in')\n",
        "print('fan diameter =', round(tf.geom.fan_diameter, 2), 'm')\n",
        "print('W =', round(tf.fl_in.W), 'Kg/s')\n",
        "print('thrust =', round(tf.thrust * 0.224809/1e3, 1), 'klbf')\n",
        "print('thrust =', round(tf.thrust/1e3), 'kN')\n",
        "print('N1 =', round(tf.N1), \"rpm\")\n",
        "print('N2 =', round(tf.N2), \"rpm\")\n",
        "print('bpr =', round(tf.bpr, 1))\n",
        "print('opr =', round(tf.opr, 1))\n",
        "print('T41 =', round(tf.core.turbine.fl_in.Tt), 'K')\n",
        "print('sfc =', round(tf.sfc, 3), 'kg/(h*kN)')\n",
        "print('psi fan =', round(tf.fan_module.fan.aero.psi, 2))\n",
        "print('psi booster =', round(tf.fan_module.booster.aero.psi, 2))\n",
        "print('psi hpc =', round(tf.core.compressor.aero.psi, 2))"
      ]
    },
    {
      "cell_type": "code",
      "execution_count": null,
      "id": "17c8f2c5-c818-4001-8ebd-292a7b8b3ac4",
      "metadata": {},
      "outputs": [],
      "source": [
        "tf.occ_view.get_value().render()"
      ]
    },
    {
      "cell_type": "markdown",
      "id": "7219ff7d-471d-4277-9238-3646dde90e2f",
      "metadata": {},
      "source": [
        "## Change state of the art"
      ]
    },
    {
      "cell_type": "code",
      "execution_count": null,
      "id": "318d4cf9-f7c0-4dc0-ae1d-23a640f44f72",
      "metadata": {},
      "outputs": [],
      "source": [
        "data_design_data = Path(tf_data.__file__).parent / \"CFM56_7_design_data.json\"\n",
        "load_from_json(tf, data_design_data)\n",
        "\n",
        "# design solver\n",
        "sys.drivers.clear()\n",
        "solver_scaling = sys.add_driver(NonLinearSolver('solver_scaling', tol=1e-6))\n",
        "\n",
        "# design method\n",
        "solver_scaling.extend(tf.design_methods['scaling'])\n",
        "\n",
        "# engine\n",
        "tf.fan_module.fan.aero.utip = 420.\n",
        "tf.fan_module.booster.aero.psi = 0.35\n",
        "\n",
        "tf.turbine.aero.psi = 1.25\n",
        "\n",
        "tf.core.compressor.aero.psi = 0.21\n",
        "tf.core.compressor.aero.utip = 420.\n",
        "tf.core.turbine.aero.psi = 1.2\n",
        "tf.core.combustor.aero.Tcomb = 1700.\n",
        "\n",
        "tf.pr_nozzle = 1.1"
      ]
    },
    {
      "cell_type": "code",
      "execution_count": null,
      "id": "ddc4bc43-8b65-4af5-b69d-e9c6b32f693e",
      "metadata": {},
      "outputs": [],
      "source": [
        "%%time\n",
        "# environment conditions\n",
        "sys.altitude = 0.\n",
        "sys.mach = 0.\n",
        "sys.dtamb = 15.\n",
        "\n",
        "sys.run_drivers()\n",
        "\n",
        "print('mach =', sys.mach)\n",
        "print('pamb =', sys.atm.pamb, 'Pa')\n",
        "print('fan diameter =', round(tf.geom.fan_diameter / 0.0254, 1), 'in')\n",
        "print('fan diameter =', round(tf.geom.fan_diameter, 2), 'm')\n",
        "print('W =', round(tf.fl_in.W), 'Kg/s')\n",
        "print('thrust =', round(tf.thrust * 0.224809/1e3, 1), 'klbf')\n",
        "print('thrust =', round(tf.thrust/1e3), 'kN')\n",
        "print('N1 =', round(tf.N1), \"rpm\")\n",
        "print('N2 =', round(tf.N2), \"rpm\")\n",
        "print('bpr =', round(tf.bpr, 1))\n",
        "print('opr =', round(tf.opr, 1))\n",
        "print('T41 =', round(tf.core.turbine.fl_in.Tt), 'K')\n",
        "print('sfc =', round(tf.sfc, 3), 'kg/(h*kN)')\n",
        "print('psi fan =', round(tf.fan_module.fan.aero.psi, 2))\n",
        "print('psi booster =', round(tf.fan_module.booster.aero.psi, 2))\n",
        "print('psi hpc =', round(tf.core.compressor.aero.psi, 2))"
      ]
    },
    {
      "cell_type": "code",
      "execution_count": null,
      "id": "0a95c3b5-3fa3-4fce-979b-087ee8bdfcf8",
      "metadata": {},
      "outputs": [],
      "source": [
        "tf.occ_view.get_value().render()"
      ]
    },
    {
      "cell_type": "markdown",
      "id": "9e61c8b6-e78e-4e63-a8d3-b9a2b8e9ef0e",
      "metadata": {},
      "source": [
        "## Change dimension"
      ]
    },
    {
      "cell_type": "code",
      "execution_count": null,
      "id": "1f5717f1-aafd-4642-a218-562c26f5b467",
      "metadata": {},
      "outputs": [],
      "source": [
        "# solver\n",
        "solver_scaling.extend(tf.design_methods['tuning_thrust'])\n",
        "solver_scaling.extend(tf.design_methods['tuning_bpr'])"
      ]
    },
    {
      "cell_type": "code",
      "execution_count": null,
      "id": "4ea41fa5-3f9f-4181-9d5f-18c9b5608005",
      "metadata": {},
      "outputs": [],
      "source": [
        "%%time\n",
        "# engine\n",
        "sys.thrust = 90e3\n",
        "tf.bpr = 6.0\n",
        "\n",
        "# environment conditions\n",
        "sys.altitude = 0.\n",
        "sys.mach = 0.\n",
        "sys.dtamb = 15.\n",
        "\n",
        "sys.run_drivers()\n",
        "\n",
        "print('mach =', sys.mach)\n",
        "print('pamb =', sys.atm.pamb, 'Pa')\n",
        "print('fan diameter =', round(tf.geom.fan_diameter / 0.0254, 1), 'in')\n",
        "print('fan diameter =', round(tf.geom.fan_diameter, 2), 'm')\n",
        "print('W =', round(tf.fl_in.W), 'Kg/s')\n",
        "print('thrust =', round(tf.thrust * 0.224809/1e3, 1), 'klbf')\n",
        "print('thrust =', round(tf.thrust/1e3), 'kN')\n",
        "print('N1 =', round(tf.N1), \"rpm\")\n",
        "print('N2 =', round(tf.N2), \"rpm\")\n",
        "print('bpr =', round(tf.bpr, 1))\n",
        "print('opr =', round(tf.opr, 1))\n",
        "print('T41 =', round(tf.core.turbine.fl_in.Tt), 'K')\n",
        "print('sfc =', round(tf.sfc, 3), 'kg/(h*kN)')\n",
        "print('psi fan =', round(tf.fan_module.fan.aero.psi, 2))\n",
        "print('psi booster =', round(tf.fan_module.booster.aero.psi, 2))\n",
        "print('psi hpc =', round(tf.core.compressor.aero.psi, 2))"
      ]
    },
    {
      "cell_type": "code",
      "execution_count": null,
      "id": "2d53099f-6fd0-4953-90eb-2b3348a4ddfb",
      "metadata": {},
      "outputs": [],
      "source": [
        "tf.occ_view.get_value().render()"
      ]
    },
    {
      "cell_type": "markdown",
      "id": "71866bce",
      "metadata": {},
      "source": [
        "## Off-design computation after design\n",
        "\n",
        "Fuel consumption for a given altitude/mach/dtamb and thrust. "
      ]
    },
    {
      "cell_type": "code",
      "execution_count": null,
      "id": "f83def4e-0b28-4415-a842-226806a4b604",
      "metadata": {},
      "outputs": [],
      "source": [
        "# off-design mode\n",
        "sys.drivers.clear()\n",
        "run = sys.add_driver(solver_control_mode)"
      ]
    },
    {
      "cell_type": "code",
      "execution_count": null,
      "id": "8de8788d-9b5f-4b39-b377-2b025ad43672",
      "metadata": {},
      "outputs": [],
      "source": [
        "%%time\n",
        "# use case\n",
        "tf.N1 *= 0.9\n",
        "\n",
        "# environment conditions\n",
        "sys.altitude = 10000.\n",
        "sys.mach = 0.8\n",
        "sys.dtamb = 0.\n",
        "\n",
        "# run \n",
        "sys.run_drivers()\n",
        "\n",
        "print('mach =', sys.mach)\n",
        "print('pamb =', sys.atm.pamb, 'Pa')\n",
        "print('fuel flow =', round(tf.fuel_W, 1), 'kg/s')\n",
        "print('W =', round(tf.fl_in.W), 'Kg/s')\n",
        "print('thrust =', round(tf.thrust * 0.224809/1e3, 1), 'klbf')\n",
        "print('thrust =', round(tf.thrust/1e3), 'kN')\n",
        "print('N1 =', round(tf.N1), \"rpm\")\n",
        "print('N2 =', round(tf.N2), \"rpm\")\n",
        "print('bpr =', round(tf.bpr, 1))\n",
        "print('opr =', round(tf.opr, 1))\n",
        "print('T41 =', round(tf.core.turbine.fl_in.Tt), 'K')\n",
        "print('sfc =', round(tf.sfc, 3), 'kg/(h*kN)')\n",
        "print('psi fan =', round(tf.fan_module.fan.aero.psi, 2))\n",
        "print('psi booster =', round(tf.fan_module.booster.aero.psi, 2))\n",
        "print('psi hpc =', round(tf.core.compressor.aero.psi, 2))"
      ]
    }
  ],
  "metadata": {
    "kernelspec": {
      "display_name": "Python 3",
      "language": "python",
      "name": "python3"
    },
    "language_info": {
      "codemirror_mode": {
        "name": "ipython",
        "version": 3
      },
      "file_extension": ".py",
      "mimetype": "text/x-python",
      "name": "python",
      "nbconvert_exporter": "python",
      "pygments_lexer": "ipython3",
      "version": "3.11.10"
    }
  },
  "nbformat": 4,
  "nbformat_minor": 5
}
