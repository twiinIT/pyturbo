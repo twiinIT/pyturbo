{
  "cells": [
    {
      "cell_type": "markdown",
      "id": "ba8b4132-1828-48fa-bf8c-1a1edbcac52f",
      "metadata": {},
      "source": [
        "# Turbofan Tutorial\n",
        "`pyturbo`  library is provided by twiinIT to assembly a simple turbofan system.\n",
        "\n",
        "The library is made of components: \n",
        "\n",
        "- `compressor` : fluid out is computed from fluid in and power provided by shaft with constant efficiency. \n",
        "- `combustor` : combustion is made considering constant FHV.\n",
        "- `turbine` : power is extracted from fluid in considering a given expansion ratio and constant efficiency. \n",
        "- `inlet` and `nozzle` are computing `drag` and `thrust` from fluid conditions, ambiant pressure and throat section. \n",
        "- `nacelle`: envelop over the engine.\n",
        "- `ogv`, `intermediate_casing` and `trf` and structures with aero channels. \n",
        "\n",
        "They are numerical components:\n",
        "\n",
        "- `fluid_spitter` is used to split the flow into primary and secondary flow\n",
        "- `shaft_spitter` is used to split the shaft power into booster and fan compressor\n",
        "\n",
        "Aero 0D and simplified geometry are considered. "
      ]
    },
    {
      "cell_type": "markdown",
      "id": "11f89b4c-b79b-45f7-8194-02d6a492fd23",
      "metadata": {},
      "source": [
        "A turbofan system is generated."
      ]
    },
    {
      "cell_type": "code",
      "execution_count": null,
      "id": "65abf53d-7674-489d-bdaf-cf2b8444b0b0",
      "metadata": {},
      "outputs": [],
      "source": [
        "from pyturbo.systems.turbofan import TurbofanWithAtm\n",
        "sys = TurbofanWithAtm(\"sys\")\n",
<<<<<<< HEAD
        "tf = sys.tf\n",
        "atm = sys.atm"
      ]
    },
    {
      "cell_type": "code",
      "execution_count": null,
      "id": "6dc31fdb-6dd3-404c-afb4-6fb8c44c488c",
      "metadata": {},
      "outputs": [],
      "source": [
        "sys"
=======
        "sys.run_once()\n",
        "tf = sys.tf"
>>>>>>> ab27151 (Clean turbofan view (#105))
      ]
    },
    {
      "cell_type": "code",
      "execution_count": null,
      "id": "481ed621-4d1e-49fa-8b78-abdc27885a1b",
      "metadata": {},
      "outputs": [],
      "source": [
        "# geometrical view\n",
<<<<<<< HEAD
        "sys.run_once()\n",
        "\n",
        "tf.jupyter_view(options={\n",
        "    \"fan_module\": dict(opacity=0.7, face_color=\"#92B4EC\"),\n",
        "    \"fan_module.spinner\": dict(face_color=\"#E1E5EA\", opacity=1.),\n",
        "    \"fan_duct\": dict(opacity=0.7),\n",
        "    \"core_cowl\": dict(opacity=0.7),\n",
        "    \"nacelle\": dict(face_color=\"#E1E5EA\", opacity=0.6),\n",
        "    \"inlet\": dict(opacity=1.),\n",
        "    \"gas_generator\": dict(face_color=\"red\", opacity=0.9),\n",
        "    \"turbine\": dict(face_color=\"#92B4EC\", opacity=0.9),\n",
        "    \"trf\": dict(opacity=0.6),\n",
        "})"
=======
        "tf.occ_view.get_value().render()"
>>>>>>> ab27151 (Clean turbofan view (#105))
      ]
    },
    {
      "cell_type": "markdown",
      "id": "f1d08e45-272d-4ae3-a844-902853f6f2d5",
      "metadata": {},
      "source": [
        "# Simulation\n",
        "\n",
        "The turbofan system has a couple of equations/unknowns to solve. We use `cosapp` non-linear solver for this purpose."
      ]
    },
    {
      "cell_type": "code",
      "execution_count": null,
<<<<<<< HEAD
      "id": "1f0935df-92d0-48f9-a1b1-ef2f46220c2a",
=======
      "id": "52315346-1984-4c58-9d9b-73499219fd63",
>>>>>>> ab27151 (Clean turbofan view (#105))
      "metadata": {},
      "outputs": [],
      "source": [
        "from cosapp.drivers import NonLinearSolver"
      ]
    },
    {
<<<<<<< HEAD
      "cell_type": "code",
      "execution_count": null,
      "id": "e58ec415-51ed-4926-9ebe-3aca8204503a",
      "metadata": {},
      "outputs": [],
      "source": [
        "from cosapp.utils import set_log, LogLevel\n",
        "\n",
        "set_log(level=LogLevel.INFO)"
      ]
    },
    {
=======
>>>>>>> ab27151 (Clean turbofan view (#105))
      "cell_type": "markdown",
      "id": "34ea90e8-ecac-4e4f-8c64-14eeb25d7084",
      "metadata": {},
      "source": [
        "## Direct mode\n",
        "`thrust` is computed from `fuel_W`."
      ]
    },
    {
      "cell_type": "code",
      "execution_count": null,
      "id": "a194311f-7756-46f2-a851-5693e8688703",
      "metadata": {},
      "outputs": [],
      "source": [
        "# off-design solver\n",
<<<<<<< HEAD
        "run = sys.add_driver(NonLinearSolver('run', max_iter=50, factor=0.8, history=False))"
=======
        "run = sys.add_driver(NonLinearSolver('run', tol = 1e-6))"
>>>>>>> ab27151 (Clean turbofan view (#105))
      ]
    },
    {
      "cell_type": "code",
      "execution_count": null,
      "id": "7c17a20c-05f7-40ad-9f99-02d02d0f3fd4",
      "metadata": {},
      "outputs": [],
      "source": [
        "# environment conditions\n",
<<<<<<< HEAD
        "atm.altitude = 0.\n",
        "atm.mach = 0.\n",
        "atm.dtamb = 15.\n",
=======
        "sys.altitude = 0.\n",
        "sys.mach = 0.\n",
        "sys.dtamb = 15.\n",
>>>>>>> ab27151 (Clean turbofan view (#105))
        "\n",
        "# use case\n",
        "tf.fuel_W = .5\n",
        "\n",
        "sys.run_drivers()\n",
        "\n",
<<<<<<< HEAD
        "print('mach =', atm.mach)\n",
        "print('pamb =', tf.pamb, 'Pa')\n",
        "print('thrust =', round(tf.thrust * 0.224809/1e3, 1), 'klbf')\n",
=======
        "print('mach =', sys.mach)\n",
        "print('pamb =', tf.pamb, 'Pa')\n",
        "print('thrust =', round(tf.thrust * 0.224809/1e3, 1), 'klbf')\n",
        "print('thrust =', round(tf.thrust/1e3), 'kN')\n",
>>>>>>> ab27151 (Clean turbofan view (#105))
        "print('N1 =', round(tf.N1), \"rpm\")\n",
        "print('N2 =', round(tf.N2), \"rpm\")\n",
        "print('bpr =', round(tf.bpr, 1))\n",
        "print('opr =', round(tf.opr, 1))\n",
        "print('T41 =', round(tf.core.turbine.fl_in.Tt), 'K')\n",
        "print('sfc =', round(tf.sfc, 3), 'kg/(h*kN)')"
      ]
    },
    {
      "cell_type": "code",
      "execution_count": null,
      "id": "f7779338-88a7-416a-aea2-c0c2675cc1dc",
      "metadata": {},
      "outputs": [],
      "source": [
        "run.problem"
      ]
    },
    {
      "cell_type": "markdown",
      "id": "913e49f5-1c9f-4c19-a282-466462946e01",
      "metadata": {},
      "source": [
<<<<<<< HEAD
        "## control mode\n",
=======
        "## Control mode\n",
>>>>>>> ab27151 (Clean turbofan view (#105))
        "`fuel_W` is computed to match functional request, here the fan rotational speed `N1` value."
      ]
    },
    {
      "cell_type": "code",
      "execution_count": null,
      "id": "272747f3-79f4-47d6-a777-bfe03dbcfbf1",
      "metadata": {},
      "outputs": [],
      "source": [
        "# control solver\n",
        "sys.drivers.clear()\n",
<<<<<<< HEAD
        "run = sys.add_driver(NonLinearSolver('run'))\n",
        "run.runner.add_unknown('tf.fuel_W')\n",
        "run.runner.add_target('tf.N1')"
=======
        "run = sys.add_driver(NonLinearSolver('run', tol=1e-6))\n",
        "run.add_unknown('tf.fuel_W')\n",
        "run.add_target('tf.N1')"
>>>>>>> ab27151 (Clean turbofan view (#105))
      ]
    },
    {
      "cell_type": "code",
      "execution_count": null,
      "id": "506c3481-bffe-4d99-9a13-931f8800a00d",
      "metadata": {},
      "outputs": [],
      "source": [
        "# environment conditions\n",
<<<<<<< HEAD
        "atm.altitude = 0.\n",
        "atm.mach = 0.\n",
        "atm.dtamb = 15.\n",
=======
        "sys.altitude = 0.\n",
        "sys.mach = 0.\n",
        "sys.dtamb = 15.\n",
>>>>>>> ab27151 (Clean turbofan view (#105))
        "\n",
        "# use case\n",
        "tf.N1 = 5000.\n",
        "\n",
        "sys.run_drivers()\n",
        "\n",
<<<<<<< HEAD
        "print('mach =', atm.mach)\n",
        "print('pamb =', atm.pamb, 'Pa')\n",
        "print('thrust =', round(tf.thrust * 0.224809/1e3, 1), 'klbf')\n",
=======
        "print('mach =', sys.mach)\n",
        "print('pamb =', sys.atm.pamb, 'Pa')\n",
        "print('thrust =', round(tf.thrust * 0.224809/1e3, 1), 'klbf')\n",
        "print('thrust =', round(tf.thrust/1e3), 'kN')\n",
>>>>>>> ab27151 (Clean turbofan view (#105))
        "print('N1 =', round(tf.N1), \"rpm\")\n",
        "print('N2 =', round(tf.N2), \"rpm\")\n",
        "print('bpr =', round(tf.bpr, 1))\n",
        "print('opr =', round(tf.opr, 1))\n",
        "print('T41 =', round(tf.core.turbine.fl_in.Tt), 'K')\n",
        "print('sfc =', round(tf.sfc, 3), 'kg/(h*kN)')"
      ]
    },
    {
      "cell_type": "code",
      "execution_count": null,
      "id": "51a8e27f-0f1b-4267-a6a3-aca650b27fff",
      "metadata": {},
      "outputs": [],
      "source": [
        "run.problem"
      ]
    },
    {
      "cell_type": "markdown",
      "id": "80bf30dd",
      "metadata": {},
      "source": [
<<<<<<< HEAD
        "## design mode\n",
        "\n",
        "Turbofan design characteristics are related to components and physical properties.\n",
        "\n",
        "### Using design methods"
=======
        "# Design\n",
        "\n",
        "Turbofan design characteristics are related to components and physical properties.\n",
        "\n",
        "## Using design methods"
>>>>>>> ab27151 (Clean turbofan view (#105))
      ]
    },
    {
      "cell_type": "code",
      "execution_count": null,
      "id": "1f5717f1-aafd-4642-a218-562c26f5b467",
      "metadata": {},
      "outputs": [],
      "source": [
        "# design solver\n",
        "sys.drivers.clear()\n",
<<<<<<< HEAD
        "design = sys.add_driver(NonLinearSolver('design', max_iter=50, factor=0.8))\n",
        "design.runner.add_unknown('tf.fuel_W')\n",
        "design.runner.add_target('tf.thrust')\n",
        "\n",
        "# engine\n",
        "tf.thrust = 120e3\n",
=======
        "design = sys.add_driver(NonLinearSolver('design', tol=1e-6, factor = 0.2))\n",
        "design.add_unknown('tf.fuel_W')\n",
        "design.add_target('tf.thrust')\n",
        "\n",
        "# design method\n",
        "design.extend(tf.design_methods['scaling'])\n",
        "\n",
        "# engine\n",
        "sys.thrust = 120e3\n",
>>>>>>> ab27151 (Clean turbofan view (#105))
        "tf.bpr = 5.\n",
        "tf.pr_nozzle = 1.1\n",
        "\n",
        "# inlet\n",
        "tf.inlet.aero.mach = 0.5\n",
        "\n",
        "# fan module\n",
<<<<<<< HEAD
        "tf.fan_module.fan.aero.pcnr = 0.95\n",
=======
        "tf.fan_module.fan.aero.pcnr = 95.\n",
>>>>>>> ab27151 (Clean turbofan view (#105))
        "tf.fan_module.fan.aero.utip = 420.\n",
        "\n",
        "# booster\n",
        "tf.fan_module.booster.aero.phi = 0.45\n",
        "tf.fan_module.booster.aero.psi = 0.35\n",
        "tf.fan_module.booster.aero.spec_flow = 180.\n",
        "tf.fan_module.booster.aero.pcnr = 95.\n",
        "\n",
        "# lpt\n",
        "tf.turbine.aero.Ncqdes = 100.\n",
        "tf.turbine.aero.psi = 1.25\n",
        "\n",
        "# hpc\n",
        "tf.core.compressor.aero.pr = 11.\n",
        "tf.core.compressor.aero.utip = 420.\n",
        "tf.core.compressor.aero.phi = 0.5\n",
        "tf.core.compressor.aero.pcnr = 95.\n",
        "\n",
        "# hpt\n",
        "tf.core.turbine.aero.psi = 1.2\n",
        "tf.core.turbine.aero.Ncqdes = 100.\n",
        "\n",
        "# combustor\n",
<<<<<<< HEAD
        "tf.core.combustor.aero.Tcomb = 1700.\n",
        "\n",
        "# design method (using targets)\n",
        "design.runner.design.extend(tf.design_methods['scaling'])"
=======
        "tf.core.combustor.aero.Tcomb = 1700."
>>>>>>> ab27151 (Clean turbofan view (#105))
      ]
    },
    {
      "cell_type": "code",
      "execution_count": null,
      "id": "4ea41fa5-3f9f-4181-9d5f-18c9b5608005",
      "metadata": {},
      "outputs": [],
      "source": [
        "# environment conditions\n",
<<<<<<< HEAD
        "atm.altitude = 0.\n",
        "atm.mach = 0.\n",
        "atm.dtamb = 15.\n",
        "\n",
        "sys.run_drivers()\n",
        "\n",
        "print('mach =', atm.mach)\n",
        "print('pamb =', atm.pamb, 'Pa')\n",
        "print('W =', round(tf.fl_in.W), 'Kg/s')\n",
        "print('thrust =', round(tf.thrust * 0.224809/1e3, 1), 'klbf')\n",
        "print('N1 =', round(tf.N1), \"rpm\")\n",
        "print('N2 =', round(tf.N2), \"rpm\")\n",
        "print('bpr =', round(tf.bpr, 1))\n",
        "print('opr =', round(tf.opr, 1))\n",
        "print('T41 =', round(tf.core.turbine.fl_in.Tt), 'K')\n",
        "print('sfc =', round(tf.sfc, 3), 'kg/(h*kN)')\n",
        "print('psi fan =', round(tf.fan_module.fan.aero.psi, 2))\n",
        "print('psi booster =', round(tf.fan_module.booster.aero.psi, 2))\n",
        "print('psi hpc =', round(tf.core.compressor.aero.psi, 2))"
      ]
    },
    {
      "cell_type": "markdown",
      "id": "588a2015-ee95-4c0f-bcbb-e02ef2055a0b",
      "metadata": {},
      "source": [
        "### Using raw equations/unknowns (detailed)"
      ]
    },
    {
      "cell_type": "code",
      "execution_count": null,
      "id": "3e525a11-cfbc-4269-9094-f7a86f37d7ef",
      "metadata": {},
      "outputs": [],
      "source": [
        "# design mode solver\n",
        "sys.drivers.clear()\n",
        "design = sys.add_driver(NonLinearSolver('design', max_iter=50, factor=0.8))\n",
        "\n",
        "# engine\n",
        "tf.thrust = 120e3\n",
        "tf.bpr = 5.\n",
        "tf.pr_nozzle = 1.1\n",
        "\n",
        "# inlet\n",
        "tf.inlet.aero.mach = 0.5\n",
        "\n",
        "# fan module\n",
        "tf.fan_module.fan.aero.pcnr = 0.95\n",
        "tf.fan_module.fan.aero.utip = 420.\n",
        "\n",
        "# booster\n",
        "tf.fan_module.booster.aero.phi = 0.45\n",
        "tf.fan_module.booster.aero.psi = 0.35\n",
        "tf.fan_module.booster.aero.spec_flow = 180.\n",
        "tf.fan_module.booster.aero.pcnr = 95.\n",
        "\n",
        "# lpt\n",
        "tf.turbine.aero.Ncqdes = 100.\n",
        "tf.turbine.aero.psi = 1.25\n",
        "\n",
        "# hpc\n",
        "tf.core.compressor.aero.pr = 11.\n",
        "tf.core.compressor.aero.utip = 420.\n",
        "tf.core.compressor.aero.phi = 0.5\n",
        "tf.core.compressor.aero.pcnr = 95.\n",
        "\n",
        "# hpt\n",
        "tf.core.turbine.aero.psi = 1.2\n",
        "tf.core.turbine.aero.Ncqdes = 100.\n",
        "\n",
        "# combustor\n",
        "tf.core.combustor.aero.Tcomb = 1700.\n",
        "\n",
        "# engine\n",
        "design.runner.add_unknown('tf.fuel_W')\n",
        "design.runner.add_target('tf.thrust')\n",
        "design.add_unknown('tf.fan_diameter')\n",
        "\n",
        "# inlet\n",
        "design.runner.add_target('tf.inlet.aero.mach')\n",
        "\n",
        "# fan\n",
        "design.add_unknown(\"tf.fan_module.fan.aero.xnd\", max_rel_step=0.5)\n",
        "design.add_unknown('tf.fan_module.fan.aero.phiP', lower_bound=0.1, upper_bound=1.5)\n",
        "\n",
        "design.runner.add_target(\"tf.fan_module.fan.aero.pcnr\")\n",
        "design.runner.add_target('tf.fan_module.fan.aero.utip')\n",
        "design.runner.add_target('tf.bpr')\n",
        "\n",
        "# booster\n",
        "design.add_unknown('tf.fan_module.geom.booster_radius_ratio')\n",
        "design.add_unknown('tf.fan_module.booster.geom.blade_hub_to_tip_ratio', lower_bound=1e-5, upper_bound=1.)\n",
        "design.add_unknown('tf.fan_module.booster.aero.phiP')\n",
        "design.add_unknown(\"tf.fan_module.booster.aero.xnd\", max_rel_step=0.5)\n",
        "\n",
        "design.runner.add_target('tf.fan_module.booster.aero.phi')\n",
        "design.runner.add_target('tf.fan_module.booster.aero.psi')\n",
        "design.runner.add_target('tf.fan_module.booster.aero.spec_flow')\n",
        "design.runner.add_target(\"tf.fan_module.booster.aero.pcnr\")\n",
        "\n",
        "# lpt\n",
        "design.add_unknown('tf.geom.turbine_radius_ratio')\n",
        "design.add_unknown(\"tf.turbine.geom.blade_height_ratio\", lower_bound=0., upper_bound=1.)\n",
        "design.add_unknown('tf.turbine.aero.Ncdes')\n",
        "\n",
        "design.runner.add_target('tf.turbine.aero.psi')\n",
        "design.runner.add_target('tf.turbine.aero.Ncqdes')\n",
        "\n",
        "# hpc\n",
        "design.add_unknown('tf.geom.core_inlet_radius_ratio', max_rel_step=0.8)\n",
        "design.add_unknown(\"tf.core.compressor.aero.xnd\", max_rel_step=0.5)\n",
        "design.add_unknown(\"tf.core.compressor.aero.phiP\")\n",
        "\n",
        "design.runner.add_target(\"tf.core.compressor.aero.pcnr\")\n",
        "design.runner.add_target(\"tf.core.compressor.aero.phi\")\n",
        "design.runner.add_target(\"tf.core.compressor.aero.utip\")\n",
        "design.runner.add_target(\"tf.core.compressor.aero.pr\")\n",
        "\n",
        "# combustor\n",
        "design.runner.add_target(\"tf.core.combustor.aero.Tcomb\")\n",
        "\n",
        "# hpt\n",
        "design.add_unknown('tf.geom.core_exit_radius_ratio', max_rel_step=0.8)\n",
        "design.add_unknown(\"tf.core.turbine.geom.blade_height_ratio\", lower_bound=0., upper_bound=1.)\n",
        "design.add_unknown(\"tf.core.turbine.aero.Ncdes\")\n",
        "\n",
        "design.runner.add_target(\"tf.core.turbine.aero.psi\")\n",
        "design.runner.add_target(\"tf.core.turbine.aero.Ncqdes\")\n",
        "\n",
        "# nozzle\n",
        "design.add_unknown('tf.geom.pri_nozzle_area_ratio', lower_bound=0.05)\n",
        "design.add_unknown('tf.geom.sec_nozzle_area_ratio', upper_bound=1.)\n",
        "\n",
        "design.runner.add_target('tf.pr_nozzle')"
      ]
    },
    {
      "cell_type": "code",
      "execution_count": null,
      "id": "b464d54b-90d6-4663-b4c3-bb3ff4e5f108",
      "metadata": {},
      "outputs": [],
      "source": [
        "# environment conditions\n",
        "atm.altitude = 0.\n",
        "atm.mach = 0.\n",
        "atm.dtamb = 15.\n",
        "\n",
        "sys.run_drivers()\n",
        "\n",
        "print('mach =', atm.mach)\n",
        "print('pamb =', atm.pamb, 'Pa')\n",
        "print('fan diameter =', round(tf.geom.fan_diameter / 0.0254, 1), 'in')\n",
        "print('W =', round(tf.fl_in.W), 'Kg/s')\n",
        "print('thrust =', round(tf.thrust * 0.224809/1e3, 1), 'klbf')\n",
=======
        "sys.altitude = 0.\n",
        "sys.mach = 0.\n",
        "sys.dtamb = 15.\n",
        "\n",
        "sys.run_drivers()\n",
        "\n",
        "print('mach =', sys.mach)\n",
        "print('pamb =', sys.atm.pamb, 'Pa')\n",
        "print('fan diameter =', round(tf.geom.fan_diameter / 0.0254, 1), 'in')\n",
        "print('fan diameter =', round(tf.geom.fan_diameter, 2), 'm')\n",
        "print('W =', round(tf.fl_in.W), 'Kg/s')\n",
        "print('thrust =', round(tf.thrust * 0.224809/1e3, 1), 'klbf')\n",
        "print('thrust =', round(tf.thrust/1e3), 'kN')\n",
>>>>>>> ab27151 (Clean turbofan view (#105))
        "print('N1 =', round(tf.N1), \"rpm\")\n",
        "print('N2 =', round(tf.N2), \"rpm\")\n",
        "print('bpr =', round(tf.bpr, 1))\n",
        "print('opr =', round(tf.opr, 1))\n",
        "print('T41 =', round(tf.core.turbine.fl_in.Tt), 'K')\n",
        "print('sfc =', round(tf.sfc, 3), 'kg/(h*kN)')\n",
        "print('psi fan =', round(tf.fan_module.fan.aero.psi, 2))\n",
        "print('psi booster =', round(tf.fan_module.booster.aero.psi, 2))\n",
        "print('psi hpc =', round(tf.core.compressor.aero.psi, 2))"
      ]
    },
    {
      "cell_type": "code",
      "execution_count": null,
<<<<<<< HEAD
=======
      "id": "616074d0-bf78-4be6-8783-8ffbb8228119",
      "metadata": {},
      "outputs": [],
      "source": [
        "design.problem"
      ]
    },
    {
      "cell_type": "code",
      "execution_count": null,
>>>>>>> ab27151 (Clean turbofan view (#105))
      "id": "2d53099f-6fd0-4953-90eb-2b3348a4ddfb",
      "metadata": {},
      "outputs": [],
      "source": [
<<<<<<< HEAD
        "tf.jupyter_view(options={\n",
        "    \"fan_module\": dict(opacity=0.7, face_color=\"#92B4EC\"),\n",
        "    \"fan_module.spinner\": dict(face_color=\"#E1E5EA\", opacity=1.),\n",
        "    \"fan_duct\": dict(opacity=0.3),\n",
        "    \"core_cowl\": dict(opacity=0.7),\n",
        "    \"nacelle\": dict(face_color=\"#E1E5EA\", opacity=0.6),\n",
        "    \"inlet\": dict(opacity=1.),\n",
        "    \"gas_generator\": dict(face_color=\"red\", opacity=0.9),\n",
        "    \"tcf\": dict(face_color=\"#92B4EC\", opacity=0.9),\n",
        "    \"turbine\": dict(face_color=\"#92B4EC\", opacity=0.9),\n",
        "    \"trf\": dict(opacity=0.6),\n",
        "})"
=======
        "tf.occ_view.get_value().render()"
>>>>>>> ab27151 (Clean turbofan view (#105))
      ]
    },
    {
      "cell_type": "markdown",
      "id": "71866bce",
      "metadata": {},
      "source": [
<<<<<<< HEAD
        "### off-design computation after design\n",
=======
        "## Off-design computation after design\n",
>>>>>>> ab27151 (Clean turbofan view (#105))
        "\n",
        "Fuel consumption for a given altitude/mach/dtamb and thrust. "
      ]
    },
    {
      "cell_type": "code",
      "execution_count": null,
      "id": "f83def4e-0b28-4415-a842-226806a4b604",
      "metadata": {},
      "outputs": [],
      "source": [
        "# off-design mode\n",
        "sys.drivers.clear()\n",
<<<<<<< HEAD
        "run = sys.add_driver(NonLinearSolver('run'))"
=======
        "run = sys.add_driver(NonLinearSolver('run', tol=1e-6))\n",
        "run.add_unknown('tf.fuel_W')\n",
        "run.add_target('tf.thrust')\n",
        "\n",
        "# use case\n",
        "sys.thrust = 50e3\n",
        "\n",
        "# environment conditions\n",
        "sys.altitude = 10000.\n",
        "sys.mach = 0.8\n",
        "sys.dtamb = 0."
>>>>>>> ab27151 (Clean turbofan view (#105))
      ]
    },
    {
      "cell_type": "code",
      "execution_count": null,
      "id": "8de8788d-9b5f-4b39-b377-2b025ad43672",
      "metadata": {},
      "outputs": [],
      "source": [
<<<<<<< HEAD
        "# environment conditions\n",
        "atm.altitude = 10000.\n",
        "atm.mach = 0.8\n",
        "atm.dtamb = 0.\n",
        "\n",
        "# requirement\n",
        "tf.thrust = 10e3 / 0.224809\n",
        "# tf.N1 = 5000.\n",
        "\n",
        "run.runner.add_unknown('tf.fuel_W')\n",
        "run.runner.add_target('tf.thrust')\n",
        "# run.runner.add_target('tf.N1')\n",
        "\n",
        "sys.run_drivers()\n",
        "\n",
        "print('fuel flow =', round(tf.fuel_W, 1), 'kg/s')\n",
        "print('N1 =', round(tf.N1), \"rpm\")\n",
        "print('sfc ', round(tf.sfc, 3), 'kg/(h*kN)')"
=======
        "# run \n",
        "sys.run_drivers()\n",
        "\n",
        "print('mach =', sys.mach)\n",
        "print('pamb =', sys.atm.pamb, 'Pa')\n",
        "print('fuel flow =', round(tf.fuel_W, 1), 'kg/s')\n",
        "print('W =', round(tf.fl_in.W), 'Kg/s')\n",
        "print('thrust =', round(tf.thrust * 0.224809/1e3, 1), 'klbf')\n",
        "print('thrust =', round(tf.thrust/1e3), 'kN')\n",
        "print('N1 =', round(tf.N1), \"rpm\")\n",
        "print('N2 =', round(tf.N2), \"rpm\")\n",
        "print('bpr =', round(tf.bpr, 1))\n",
        "print('opr =', round(tf.opr, 1))\n",
        "print('T41 =', round(tf.core.turbine.fl_in.Tt), 'K')\n",
        "print('sfc =', round(tf.sfc, 3), 'kg/(h*kN)')\n",
        "print('psi fan =', round(tf.fan_module.fan.aero.psi, 2))\n",
        "print('psi booster =', round(tf.fan_module.booster.aero.psi, 2))\n",
        "print('psi hpc =', round(tf.core.compressor.aero.psi, 2))"
>>>>>>> ab27151 (Clean turbofan view (#105))
      ]
    }
  ],
  "metadata": {
    "kernelspec": {
      "display_name": "Python 3 (ipykernel)",
      "language": "python",
      "name": "python3"
    },
    "language_info": {
      "codemirror_mode": {
        "name": "ipython",
        "version": 3
      },
      "file_extension": ".py",
      "mimetype": "text/x-python",
      "name": "python",
      "nbconvert_exporter": "python",
      "pygments_lexer": "ipython3",
<<<<<<< HEAD
      "version": "3.10.8"
=======
      "version": "3.11.10"
>>>>>>> ab27151 (Clean turbofan view (#105))
    },
    "vscode": {
      "interpreter": {
        "hash": "0c1f2e9e0acff612fbff7be31f0ea913f7f20427d1d1231e188b099d6c58c52b"
      }
    }
  },
  "nbformat": 4,
  "nbformat_minor": 5
}
