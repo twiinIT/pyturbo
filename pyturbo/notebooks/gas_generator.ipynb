{
  "cells": [
    {
      "cell_type": "code",
      "execution_count": null,
      "id": "6cd009f7-9662-4cf5-860c-e411371ebf0a",
      "metadata": {},
      "outputs": [],
      "source": [
        "from pyturbo.systems.gas_generator import GasGenerator"
      ]
    },
    {
      "cell_type": "code",
      "execution_count": null,
      "id": "d223162a-7ef1-4796-9d30-ef513ad99697",
      "metadata": {},
      "outputs": [],
      "source": [
        "from cosapp.drivers import NonLinearSolver\n",
        "from cosapp.utils import LogLevel, set_log\n",
        "from cosapp.recorders import DataFrameRecorder\n",
        "\n",
        "set_log()"
      ]
    },
    {
      "cell_type": "code",
      "execution_count": null,
      "id": "af960069-e1fe-40dd-b8c1-cadf1d9ecbf7",
      "metadata": {},
      "outputs": [],
      "source": [
        "core = GasGenerator(\"core\")\n",
        "\n",
        "core.kp.inlet_tip[0] = 0.25\n",
        "core.kp.exit_tip[0] = 0.25\n",
        "core.fuel_W = 0.11\n",
        "core.turbine.aero.Ncdes = 15.\n",
        "core.compressor.geom.blade_hub_to_tip_ratio = 0.8\n",
        "core.turbine.sh_out.power = 30e6\n",
        "core.turbine.geom.blade_height_ratio = 0.1\n",
        "\n",
        "core.fl_in.Tt = 409.\n",
        "core.fl_in.Pt = 2.67e5\n",
        "\n",
        "core.compressor.sh_in.power = core.turbine.sh_out.power\n",
        "\n",
        "core.compressor.geom.blade_hub_to_tip_ratio = 0.7\n",
        "\n",
        "run = core.add_driver(NonLinearSolver('run', factor=0.8, history=True))\n",
        "\n",
        "run.add_equation(\"turbine.aero.Ncqdes == 100.\").add_unknown(\"compressor.fl_in.W\", max_rel_step=0.8)\n",
        "run.add_equation(\"compressor.aero.phi == 0.45\").add_unknown(\"compressor.aero.phiP\")\n",
        "run.add_equation(\"compressor.aero.pr == 11.\")\n",
        "run.add_equation(\"combustor.aero.Tcomb == 1650.\").add_unknown(\"fuel_W\")\n",
        "run.add_equation(\"compressor.aero.utip == 450.\").add_unknown(\"turbine.aero.Ncdes\")\n",
        "run.add_unknown(\"kp.inlet_tip[0]\", lower_bound=1e-5, max_rel_step=0.8).add_target(\"turbine.sh_out.power\")\n",
        "run.add_unknown(\"kp.exit_tip[0]\", lower_bound=1e-5, max_rel_step=0.8).add_equation(\"turbine.aero.psi == 1.1\")\n",
        "run.add_unknown(\"compressor.aero.xnd\").add_equation(\"compressor.aero.pcnr == 98.\")\n",
        "run.add_unknown(\"turbine.geom.blade_height_ratio\", lower_bound=0., upper_bound=1.)\n",
        "\n",
        "rec = run.runner.add_recorder(DataFrameRecorder(includes='*'))\n",
        "                                                            \n",
        "core.run_drivers()"
      ]
    },
    {
      "cell_type": "code",
      "execution_count": null,
      "id": "53e5d904-449d-43da-8070-2a61fcfd2d2f",
      "metadata": {},
      "outputs": [],
      "source": [
        "run.problem"
      ]
    },
    {
      "cell_type": "code",
      "execution_count": null,
      "id": "1fc2dc38-136c-46ef-b2eb-cb13b1b71e41",
      "metadata": {},
      "outputs": [],
      "source": [
        "run = core.add_driver(NonLinearSolver('run', factor=0.95, history=True))\n",
        "run.add_unknown(\"fuel_W\").add_equation(\"compressor.aero.pcnr == 95.\")\n",
        "run.add_unknown(\"compressor.fl_in.W\").add_target(\"turbine.aero.fl_out.Wc\")\n",
        "\n",
        "core.run_drivers()"
      ]
    },
    {
      "cell_type": "code",
      "execution_count": null,
      "id": "b6d19600-4e41-44cf-b58b-58557800d491",
      "metadata": {},
      "outputs": [],
      "source": [
        "core.turbine.aero.dhqt, core.turbine.aero.Ncqdes"
      ]
    },
    {
      "cell_type": "code",
      "execution_count": null,
      "id": "29bd570c-984a-4fd8-9680-3d088a612493",
      "metadata": {},
      "outputs": [],
      "source": [
        "core.jupyter_view(options={\n",
        "    \"compressor\": dict(opacity=0.8),\n",
        "    \"combustor\": dict(face_color=\"red\", opacity=0.8),\n",
        "    \"turbine\": dict(opacity=0.8),\n",
        "})"
      ]
    }
  ],
  "metadata": {
    "kernelspec": {
      "display_name": "Python 3 (ipykernel)",
      "language": "python",
      "name": "python3"
    },
    "language_info": {
      "codemirror_mode": {
        "name": "ipython",
        "version": 3
      },
      "file_extension": ".py",
      "mimetype": "text/x-python",
      "name": "python",
      "nbconvert_exporter": "python",
      "pygments_lexer": "ipython3",
      "version": "3.9.12"
    }
  },
<<<<<<< HEAD
  "nbformat": 4,
  "nbformat_minor": 5
=======
  {
   "cell_type": "code",
   "execution_count": null,
   "id": "d223162a-7ef1-4796-9d30-ef513ad99697",
   "metadata": {},
   "outputs": [],
   "source": [
    "from cosapp.drivers import NonLinearSolver\n",
    "from cosapp.utils import LogLevel, set_log\n",
    "from cosapp.recorders import DataFrameRecorder\n",
    "\n",
    "set_log()"
   ]
  },
  {
   "cell_type": "code",
   "execution_count": null,
   "id": "af960069-e1fe-40dd-b8c1-cadf1d9ecbf7",
   "metadata": {},
   "outputs": [],
   "source": [
    "core = GasGenerator(\"core\")\n",
    "\n",
    "core.kp.inlet_tip[0] = 0.25\n",
    "core.kp.exit_tip[0] = 0.25\n",
    "core.fuel_W = 0.11\n",
    "core.turbine.aero.Ncdes = 15.\n",
    "core.compressor.geom.blade_hub_to_tip_ratio = 0.8\n",
    "core.turbine.sh_out.power = 30e6\n",
    "core.turbine.geom.blade_height_ratio = 0.1\n",
    "\n",
    "core.fl_in.Tt = 409.\n",
    "core.fl_in.Pt = 2.67e5\n",
    "\n",
    "core.compressor.sh_in.power = core.turbine.sh_out.power\n",
    "\n",
    "core.compressor.geom.blade_hub_to_tip_ratio = 0.7\n",
    "\n",
    "run = core.add_driver(NonLinearSolver('run', factor=0.8, history=True))\n",
    "\n",
    "run.add_equation(\"turbine.aero.Ncqdes == 100.\").add_unknown(\"compressor.fl_in.W\", max_rel_step=0.8)\n",
    "run.add_equation(\"compressor.aero.phi == 0.45\").add_unknown(\"compressor.aero.phiP\")\n",
    "run.add_equation(\"compressor.aero.pr == 11.\")\n",
    "run.add_equation(\"combustor.aero.Tcomb == 1650.\").add_unknown(\"fuel_W\")\n",
    "run.add_equation(\"compressor.aero.utip == 450.\").add_unknown(\"turbine.aero.Ncdes\")\n",
    "run.add_unknown(\"kp.inlet_tip[0]\", lower_bound=1e-5, max_rel_step=0.8).add_target(\"turbine.sh_out.power\")\n",
    "run.add_unknown(\"kp.exit_tip[0]\", lower_bound=1e-5, max_rel_step=0.8).add_equation(\"turbine.aero.psi == 1.1\")\n",
    "run.add_unknown(\"compressor.aero.xnd\").add_equation(\"compressor.aero.pcnr == 98.\")\n",
    "run.add_unknown(\"turbine.geom.blade_height_ratio\", lower_bound=0., upper_bound=1.)\n",
    "\n",
    "rec = run.runner.add_recorder(DataFrameRecorder(includes='*'))\n",
    "                                                            \n",
    "core.run_drivers()"
   ]
  },
  {
   "cell_type": "code",
   "execution_count": null,
   "id": "53e5d904-449d-43da-8070-2a61fcfd2d2f",
   "metadata": {},
   "outputs": [],
   "source": [
    "run.problem"
   ]
  },
  {
   "cell_type": "code",
   "execution_count": null,
   "id": "1fc2dc38-136c-46ef-b2eb-cb13b1b71e41",
   "metadata": {},
   "outputs": [],
   "source": [
    "run = core.add_driver(NonLinearSolver('run', factor=0.95, history=True))\n",
    "run.add_unknown(\"fuel_W\").add_equation(\"compressor.aero.pcnr == 95.\")\n",
    "run.add_unknown(\"compressor.fl_in.W\").add_target(\"turbine.aero.fl_out.Wc\")\n",
    "\n",
    "core.run_drivers()"
   ]
  },
  {
   "cell_type": "code",
   "execution_count": null,
   "id": "b6d19600-4e41-44cf-b58b-58557800d491",
   "metadata": {},
   "outputs": [],
   "source": [
    "core.turbine.aero.dhqt, core.turbine.aero.Ncqdes"
   ]
  },
  {
   "cell_type": "code",
   "execution_count": null,
   "id": "29bd570c-984a-4fd8-9680-3d088a612493",
   "metadata": {},
   "outputs": [],
   "source": [
    "core.jupyter_view(options={\n",
    "    \"compressor\": dict(opacity=0.8),\n",
    "    \"combustor\": dict(face_color=\"red\", opacity=0.8),\n",
    "    \"turbine\": dict(opacity=0.8),\n",
    "})"
   ]
  }
 ],
 "metadata": {
  "kernelspec": {
   "display_name": "Python 3 (ipykernel)",
   "language": "python",
   "name": "python3"
  },
  "language_info": {
   "codemirror_mode": {
    "name": "ipython",
    "version": 3
   },
   "file_extension": ".py",
   "mimetype": "text/x-python",
   "name": "python",
   "nbconvert_exporter": "python",
   "pygments_lexer": "ipython3",
   "version": "3.10.6"
  }
 },
 "nbformat": 4,
 "nbformat_minor": 5
>>>>>>> f7ec3f2 (Cosapp qa (#94))
}
